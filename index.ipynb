{
 "cells": [
  {
   "cell_type": "markdown",
   "metadata": {},
   "source": [
    "## Convolutional Neural Network"
   ]
  },
  {
   "cell_type": "markdown",
   "metadata": {},
   "source": [
    "### Importing the Libraries"
   ]
  },
  {
   "cell_type": "code",
   "execution_count": 1,
   "metadata": {},
   "outputs": [],
   "source": [
    "import tensorflow as tf\n",
    "import numpy as np"
   ]
  },
  {
   "cell_type": "code",
   "execution_count": 2,
   "metadata": {},
   "outputs": [],
   "source": [
    "\n",
    "from tensorflow.keras.preprocessing.image import ImageDataGenerator\n",
    "from tensorflow.keras.preprocessing import image"
   ]
  },
  {
   "cell_type": "markdown",
   "metadata": {},
   "source": [
    "### Data Preprocessing"
   ]
  },
  {
   "cell_type": "markdown",
   "metadata": {},
   "source": [
    "#### preprocessing the Training set"
   ]
  },
  {
   "cell_type": "code",
   "execution_count": 3,
   "metadata": {},
   "outputs": [],
   "source": [
    "# prevent overfitting by augmenting the training set\n",
    "\n",
    "train_datagen = ImageDataGenerator(\n",
    "    rescale=1./255, # rescale the images to [0, 1]\n",
    "    shear_range=0.2,\n",
    "    zoom_range=0.2,\n",
    "    horizontal_flip=True\n",
    ")\n"
   ]
  },
  {
   "cell_type": "code",
   "execution_count": 4,
   "metadata": {},
   "outputs": [
    {
     "name": "stdout",
     "output_type": "stream",
     "text": [
      "Found 8005 images belonging to 2 classes.\n"
     ]
    }
   ],
   "source": [
    "train_generator = train_datagen.flow_from_directory(\n",
    "    'IMAGES/achive/training_set/training_set',\n",
    "    target_size=(64, 64),\n",
    "    batch_size=32,\n",
    "    class_mode='binary'\n",
    ")"
   ]
  },
  {
   "cell_type": "code",
   "execution_count": 5,
   "metadata": {},
   "outputs": [
    {
     "name": "stdout",
     "output_type": "stream",
     "text": [
      "Found 2023 images belonging to 2 classes.\n"
     ]
    }
   ],
   "source": [
    "test_datagen = ImageDataGenerator(rescale=1./255)\n",
    "test_generator = test_datagen.flow_from_directory(\n",
    "    'IMAGES/achive/test_set/test_set',\n",
    "    target_size=(64, 64),\n",
    "    batch_size=32,\n",
    "    class_mode='binary'\n",
    ")"
   ]
  },
  {
   "cell_type": "markdown",
   "metadata": {},
   "source": [
    "### Building the CNN"
   ]
  },
  {
   "cell_type": "markdown",
   "metadata": {},
   "source": [
    "#### initialize the model"
   ]
  },
  {
   "cell_type": "code",
   "execution_count": 6,
   "metadata": {},
   "outputs": [],
   "source": [
    "cnn = tf.keras.models.Sequential()"
   ]
  },
  {
   "cell_type": "markdown",
   "metadata": {},
   "source": [
    "#### Convolution"
   ]
  },
  {
   "cell_type": "code",
   "execution_count": 7,
   "metadata": {},
   "outputs": [],
   "source": [
    "cnn.add(tf.keras.layers.Conv2D(\n",
    "    filters=32,\n",
    "    kernel_size=(3, 3),\n",
    "    activation='relu',\n",
    "    input_shape=[64, 64, 3] # 3 channels for RGB\n",
    "))"
   ]
  },
  {
   "cell_type": "markdown",
   "metadata": {},
   "source": [
    "#### Pooling"
   ]
  },
  {
   "cell_type": "code",
   "execution_count": 8,
   "metadata": {},
   "outputs": [],
   "source": [
    "cnn.add(tf.keras.layers.MaxPool2D(\n",
    "    pool_size=(2, 2), \n",
    "    strides=2\n",
    "))"
   ]
  },
  {
   "cell_type": "markdown",
   "metadata": {},
   "source": [
    "#### Adding more convolutional layer"
   ]
  },
  {
   "cell_type": "code",
   "execution_count": 9,
   "metadata": {},
   "outputs": [],
   "source": [
    "cnn.add(tf.keras.layers.Conv2D(\n",
    "    filters=32,\n",
    "    kernel_size=(3, 3),\n",
    "    activation='relu'\n",
    "))"
   ]
  },
  {
   "cell_type": "code",
   "execution_count": 10,
   "metadata": {},
   "outputs": [],
   "source": [
    "cnn.add(tf.keras.layers.MaxPool2D(\n",
    "    pool_size=(2, 2), \n",
    "    strides=2\n",
    "))"
   ]
  },
  {
   "cell_type": "markdown",
   "metadata": {},
   "source": [
    "#### Flattening the layers"
   ]
  },
  {
   "cell_type": "code",
   "execution_count": 11,
   "metadata": {},
   "outputs": [],
   "source": [
    "cnn.add(tf.keras.layers.Flatten())"
   ]
  },
  {
   "cell_type": "markdown",
   "metadata": {},
   "source": [
    "#### Full Connetion"
   ]
  },
  {
   "cell_type": "code",
   "execution_count": 12,
   "metadata": {},
   "outputs": [],
   "source": [
    "cnn.add(tf.keras.layers.Dense(\n",
    "    units=128,\n",
    "    activation='relu'\n",
    "))"
   ]
  },
  {
   "cell_type": "markdown",
   "metadata": {},
   "source": [
    "#### Output Layer"
   ]
  },
  {
   "cell_type": "code",
   "execution_count": 13,
   "metadata": {},
   "outputs": [],
   "source": [
    "cnn.add(tf.keras.layers.Dense(\n",
    "    units=1, # binary classification\n",
    "    activation='sigmoid' # output layer\n",
    "))"
   ]
  },
  {
   "cell_type": "markdown",
   "metadata": {},
   "source": [
    "### Training the CNN"
   ]
  },
  {
   "cell_type": "markdown",
   "metadata": {},
   "source": [
    "#### Compile the CNN"
   ]
  },
  {
   "cell_type": "code",
   "execution_count": 14,
   "metadata": {},
   "outputs": [],
   "source": [
    "cnn.compile(\n",
    "    optimizer='adam',\n",
    "    loss='binary_crossentropy',\n",
    "    metrics=['accuracy']\n",
    ")"
   ]
  },
  {
   "cell_type": "markdown",
   "metadata": {},
   "source": [
    "#### Training the CNN on the training set and evaluating it on the test set"
   ]
  },
  {
   "cell_type": "code",
   "execution_count": 15,
   "metadata": {},
   "outputs": [
    {
     "name": "stdout",
     "output_type": "stream",
     "text": [
      "Epoch 1/25\n"
     ]
    },
    {
     "name": "stderr",
     "output_type": "stream",
     "text": [
      "2025-03-17 00:40:13.566029: W tensorflow/tsl/platform/profile_utils/cpu_utils.cc:128] Failed to get CPU frequency: 0 Hz\n"
     ]
    },
    {
     "name": "stdout",
     "output_type": "stream",
     "text": [
      "251/251 [==============================] - 21s 81ms/step - loss: 0.6515 - accuracy: 0.6017 - val_loss: 0.6114 - val_accuracy: 0.6673\n",
      "Epoch 2/25\n",
      "251/251 [==============================] - 22s 87ms/step - loss: 0.5776 - accuracy: 0.7033 - val_loss: 0.5493 - val_accuracy: 0.7350\n",
      "Epoch 3/25\n",
      "251/251 [==============================] - 22s 89ms/step - loss: 0.5319 - accuracy: 0.7345 - val_loss: 0.5301 - val_accuracy: 0.7405\n",
      "Epoch 4/25\n",
      "251/251 [==============================] - 20s 81ms/step - loss: 0.5233 - accuracy: 0.7390 - val_loss: 0.5056 - val_accuracy: 0.7598\n",
      "Epoch 5/25\n",
      "251/251 [==============================] - 19s 77ms/step - loss: 0.4941 - accuracy: 0.7572 - val_loss: 0.5182 - val_accuracy: 0.7568\n",
      "Epoch 6/25\n",
      "251/251 [==============================] - 18s 72ms/step - loss: 0.4765 - accuracy: 0.7760 - val_loss: 0.5304 - val_accuracy: 0.7390\n",
      "Epoch 7/25\n",
      "251/251 [==============================] - 19s 74ms/step - loss: 0.4613 - accuracy: 0.7773 - val_loss: 0.4696 - val_accuracy: 0.7870\n",
      "Epoch 8/25\n",
      "251/251 [==============================] - 19s 76ms/step - loss: 0.4569 - accuracy: 0.7789 - val_loss: 0.4678 - val_accuracy: 0.7850\n",
      "Epoch 9/25\n",
      "251/251 [==============================] - 19s 76ms/step - loss: 0.4420 - accuracy: 0.7868 - val_loss: 0.4553 - val_accuracy: 0.7973\n",
      "Epoch 10/25\n",
      "251/251 [==============================] - 19s 77ms/step - loss: 0.4322 - accuracy: 0.7954 - val_loss: 0.4441 - val_accuracy: 0.8023\n",
      "Epoch 11/25\n",
      "251/251 [==============================] - 19s 74ms/step - loss: 0.4146 - accuracy: 0.8025 - val_loss: 0.4515 - val_accuracy: 0.8047\n",
      "Epoch 12/25\n",
      "251/251 [==============================] - 18s 71ms/step - loss: 0.4134 - accuracy: 0.8097 - val_loss: 0.5107 - val_accuracy: 0.7736\n",
      "Epoch 13/25\n",
      "251/251 [==============================] - 18s 71ms/step - loss: 0.3981 - accuracy: 0.8189 - val_loss: 0.4346 - val_accuracy: 0.8127\n",
      "Epoch 14/25\n",
      "251/251 [==============================] - 18s 72ms/step - loss: 0.3922 - accuracy: 0.8195 - val_loss: 0.4409 - val_accuracy: 0.8052\n",
      "Epoch 15/25\n",
      "251/251 [==============================] - 18s 73ms/step - loss: 0.3815 - accuracy: 0.8270 - val_loss: 0.4543 - val_accuracy: 0.8013\n",
      "Epoch 16/25\n",
      "251/251 [==============================] - 18s 74ms/step - loss: 0.3788 - accuracy: 0.8247 - val_loss: 0.4332 - val_accuracy: 0.8067\n",
      "Epoch 17/25\n",
      "251/251 [==============================] - 18s 73ms/step - loss: 0.3699 - accuracy: 0.8325 - val_loss: 0.4226 - val_accuracy: 0.8131\n",
      "Epoch 18/25\n",
      "251/251 [==============================] - 18s 73ms/step - loss: 0.3620 - accuracy: 0.8324 - val_loss: 0.4407 - val_accuracy: 0.8141\n",
      "Epoch 19/25\n",
      "251/251 [==============================] - 18s 73ms/step - loss: 0.3580 - accuracy: 0.8380 - val_loss: 0.4297 - val_accuracy: 0.8206\n",
      "Epoch 20/25\n",
      "251/251 [==============================] - 18s 73ms/step - loss: 0.3489 - accuracy: 0.8478 - val_loss: 0.4408 - val_accuracy: 0.8136\n",
      "Epoch 21/25\n",
      "251/251 [==============================] - 17s 69ms/step - loss: 0.3431 - accuracy: 0.8445 - val_loss: 0.4090 - val_accuracy: 0.8181\n",
      "Epoch 22/25\n",
      "251/251 [==============================] - 18s 71ms/step - loss: 0.3259 - accuracy: 0.8543 - val_loss: 0.4438 - val_accuracy: 0.8062\n",
      "Epoch 23/25\n",
      "251/251 [==============================] - 17s 68ms/step - loss: 0.3233 - accuracy: 0.8573 - val_loss: 0.4328 - val_accuracy: 0.8225\n",
      "Epoch 24/25\n",
      "251/251 [==============================] - 16s 66ms/step - loss: 0.3185 - accuracy: 0.8628 - val_loss: 0.4342 - val_accuracy: 0.8235\n",
      "Epoch 25/25\n",
      "251/251 [==============================] - 16s 65ms/step - loss: 0.3007 - accuracy: 0.8716 - val_loss: 0.4824 - val_accuracy: 0.8077\n"
     ]
    },
    {
     "data": {
      "text/plain": [
       "<keras.callbacks.History at 0x1672d6ac0>"
      ]
     },
     "execution_count": 15,
     "metadata": {},
     "output_type": "execute_result"
    }
   ],
   "source": [
    "cnn.fit(\n",
    "    x = train_generator, \n",
    "    validation_data=test_generator,\n",
    "    epochs=25\n",
    ")"
   ]
  },
  {
   "cell_type": "markdown",
   "metadata": {},
   "source": [
    "### Making a Single Prediction"
   ]
  },
  {
   "cell_type": "code",
   "execution_count": 20,
   "metadata": {},
   "outputs": [
    {
     "name": "stdout",
     "output_type": "stream",
     "text": [
      "1/1 [==============================] - 0s 13ms/step\n"
     ]
    }
   ],
   "source": [
    "test_image = image.load_img('IMAGES/cat/00027-200124337.png', target_size=(64, 64))\n",
    "test_image = image.img_to_array(test_image)\n",
    "test_image = np.expand_dims(test_image, axis=0)\n",
    "result = cnn.predict(test_image)\n",
    "training_set = train_generator.class_indices\n",
    "if result[0][0] == 1:\n",
    "    prediction = 'dog'\n",
    "else:\n",
    "    prediction = 'cat'\n",
    "    \n"
   ]
  },
  {
   "cell_type": "code",
   "execution_count": 21,
   "metadata": {},
   "outputs": [
    {
     "name": "stdout",
     "output_type": "stream",
     "text": [
      "Prediction: cat\n"
     ]
    }
   ],
   "source": [
    "print(f'Prediction: {prediction}')"
   ]
  },
  {
   "cell_type": "code",
   "execution_count": null,
   "metadata": {},
   "outputs": [],
   "source": []
  }
 ],
 "metadata": {
  "kernelspec": {
   "display_name": "DSEnv",
   "language": "python",
   "name": "python3"
  },
  "language_info": {
   "codemirror_mode": {
    "name": "ipython",
    "version": 3
   },
   "file_extension": ".py",
   "mimetype": "text/x-python",
   "name": "python",
   "nbconvert_exporter": "python",
   "pygments_lexer": "ipython3",
   "version": "3.8.20"
  }
 },
 "nbformat": 4,
 "nbformat_minor": 2
}
